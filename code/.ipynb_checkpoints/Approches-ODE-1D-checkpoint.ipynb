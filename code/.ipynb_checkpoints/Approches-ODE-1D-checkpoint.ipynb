{
 "cells": [
  {
   "cell_type": "markdown",
   "metadata": {
    "id": "XNCupJ22_0Mn"
   },
   "source": [
    "# Approches de résolutions d'EDO"
   ]
  },
  {
   "cell_type": "code",
   "execution_count": 79,
   "metadata": {
    "id": "2itv0qjA3gi-"
   },
   "outputs": [],
   "source": [
    "import numpy as np\n",
    "import numpy.linalg as nplin\n",
    "from scipy.linalg import expm\n",
    "import matplotlib.pyplot as plt"
   ]
  },
  {
   "cell_type": "markdown",
   "metadata": {
    "id": "ciiXosEK_xX6"
   },
   "source": [
    "## Résolution anaylitique"
   ]
  },
  {
   "cell_type": "code",
   "execution_count": 112,
   "metadata": {
    "id": "dQnRtbvB3nge"
   },
   "outputs": [],
   "source": [
    "## Les constantes\n",
    "m = 1.0\n",
    "m_ = 1.0\n",
    "\n",
    "k = 2.0\n",
    "k_ = 1.0\n",
    "\n",
    "mu = 1.0\n",
    "mu_ = 2.0\n",
    "\n",
    "Y_0 = np.array([0,0, 0, -1.0])"
   ]
  },
  {
   "cell_type": "code",
   "execution_count": 113,
   "metadata": {
    "colab": {
     "base_uri": "https://localhost:8080/"
    },
    "id": "pq-F-aMp3sqW",
    "outputId": "cd1eb490-aa2c-4fd9-b1c7-d9908e5ff871"
   },
   "outputs": [
    {
     "name": "stdout",
     "output_type": "stream",
     "text": [
      "[[ 0.   0.   1.   0. ]\n",
      " [ 0.   0.   0.   1. ]\n",
      " [ 1.5 -0.5  1.5 -1. ]\n",
      " [-1.   1.  -2.   2. ]]\n"
     ]
    }
   ],
   "source": [
    "E = np.array([[0,0,1.0,0], \n",
    "              [0,0,0,1.0], \n",
    "              [(k+k_)/(m+m_), -k_/(m+m_), (mu+mu_)/(m+m_), -mu_/(m+m_)], \n",
    "              [-k_/m_, k_/m_, -mu_/m_, mu_/m_]])\n",
    "\n",
    "print(E)"
   ]
  },
  {
   "cell_type": "code",
   "execution_count": 114,
   "metadata": {
    "colab": {
     "base_uri": "https://localhost:8080/"
    },
    "id": "sE9wKkK73-8R",
    "outputId": "943259fd-fd25-4717-f45e-d2708270bff5"
   },
   "outputs": [
    {
     "name": "stdout",
     "output_type": "stream",
     "text": [
      "[[ 3.70306379  0.          0.          0.        ]\n",
      " [ 0.          0.92353241  0.          0.        ]\n",
      " [ 0.          0.         -0.72109065  0.        ]\n",
      " [ 0.          0.          0.         -0.40550555]]\n"
     ]
    }
   ],
   "source": [
    "vals, vecs = nplin.eig(E)\n",
    "\n",
    "diag = np.real(vals)\n",
    "D = np.diag(diag)\n",
    "P = np.real(vecs)\n",
    "\n",
    "print(D)"
   ]
  },
  {
   "cell_type": "code",
   "execution_count": 115,
   "metadata": {
    "colab": {
     "base_uri": "https://localhost:8080/"
    },
    "id": "OfTo-9UE4wkc",
    "outputId": "fbbfc591-b92a-463c-c00d-7954965ef713"
   },
   "outputs": [
    {
     "name": "stdout",
     "output_type": "stream",
     "text": [
      "[[ 0.1391678   0.42145769 -0.73700884  0.11939774]\n",
      " [-0.22045612  0.60171789 -0.3387107   0.91898311]\n",
      " [ 0.51534723  0.38922984  0.53145018 -0.04841645]\n",
      " [-0.81636307  0.55570597  0.24424112 -0.37265275]]\n"
     ]
    }
   ],
   "source": [
    "print(P)"
   ]
  },
  {
   "cell_type": "code",
   "execution_count": 116,
   "metadata": {
    "colab": {
     "base_uri": "https://localhost:8080/"
    },
    "id": "vE4nVJex6R13",
    "outputId": "8a3f35cf-e6f0-44a7-ad30-3b497df0f156"
   },
   "outputs": [
    {
     "data": {
      "text/plain": [
       "(1001, 4, 4)"
      ]
     },
     "execution_count": 116,
     "metadata": {
      "tags": []
     },
     "output_type": "execute_result"
    }
   ],
   "source": [
    "N = 1000\n",
    "t = np.linspace(0,4, N+1)\n",
    "\n",
    "# D_ = np.zeros(shape=(N,4,4))\n",
    "D_ = t[:,np.newaxis,np.newaxis]*D\n",
    "D_.shape"
   ]
  },
  {
   "cell_type": "code",
   "execution_count": 117,
   "metadata": {
    "id": "g-PoGPQw6KGB"
   },
   "outputs": [],
   "source": [
    "Y = np.ones(shape=(N+1, 4))\n",
    "\n",
    "for i in range(N+1):\n",
    "  # Y = ( P @ np.exp(t[i]*D) @ np.inv(P) ) @ Y_0\n",
    "  Y[i] = expm(t[i]*E) @ Y_0"
   ]
  },
  {
   "cell_type": "code",
   "execution_count": 118,
   "metadata": {
    "colab": {
     "base_uri": "https://localhost:8080/",
     "height": 293
    },
    "id": "5OaG9K5y-Vlj",
    "outputId": "d68f8773-5cfd-4e6a-b628-8828fc4ecee6"
   },
   "outputs": [
    {
     "data": {
      "text/plain": [
       "<matplotlib.legend.Legend at 0x7fe7a1e78290>"
      ]
     },
     "execution_count": 118,
     "metadata": {
      "tags": []
     },
     "output_type": "execute_result"
    },
    {
     "data": {
      "image/png": "[encoded data removed]",
      "text/plain": [
       "<Figure size 432x288 with 1 Axes>"
      ]
     },
     "metadata": {
      "needs_background": "light",
      "tags": []
     },
     "output_type": "display_data"
    }
   ],
   "source": [
    "# Y = ( P @ np.exp(D_) @ nplin.inv(P) ) @ Y_0\n",
    "# Y[:,0].shape\n",
    "\n",
    "# plt.figure(figsize=(10,8))\n",
    "plt.plot(t, Y[:,0], label='$x_1$')\n",
    "plt.plot(t, Y[:,1], label='$x_2$')\n",
    "plt.plot(t, Y[:,2], label='$\\dot{x}_1$')\n",
    "plt.plot(t, Y[:,3], label='$\\dot{x}_2$')\n",
    "plt.legend()"
   ]
  },
  {
   "cell_type": "markdown",
   "metadata": {
    "id": "EH6DXmEB_5IL"
   },
   "source": [
    "## Résolution numérique"
   ]
  },
  {
   "cell_type": "code",
   "execution_count": 119,
   "metadata": {
    "id": "xppULS7P_vwW"
   },
   "outputs": [],
   "source": [
    "from scipy.integrate import odeint"
   ]
  },
  {
   "cell_type": "code",
   "execution_count": 120,
   "metadata": {
    "id": "sLgFcLbqAWWb"
   },
   "outputs": [],
   "source": [
    "def model(Y, t):\n",
    "  return E @ Y"
   ]
  },
  {
   "cell_type": "code",
   "execution_count": 121,
   "metadata": {
    "colab": {
     "base_uri": "https://localhost:8080/",
     "height": 293
    },
    "id": "DaWC-PJVBOMB",
    "outputId": "a5a8bc0b-bb11-4f56-884a-b52cdc1617e4"
   },
   "outputs": [
    {
     "data": {
      "text/plain": [
       "<matplotlib.legend.Legend at 0x7fe7a1debb50>"
      ]
     },
     "execution_count": 121,
     "metadata": {
      "tags": []
     },
     "output_type": "execute_result"
    },
    {
     "data": {
      "image/png": "[encoded data removed]",
      "text/plain": [
       "<Figure size 432x288 with 1 Axes>"
      ]
     },
     "metadata": {
      "needs_background": "light",
      "tags": []
     },
     "output_type": "display_data"
    }
   ],
   "source": [
    "Y = odeint(model, Y_0, t)\n",
    "\n",
    "plt.plot(t, Y[:,0], label='$x_1$')\n",
    "plt.plot(t, Y[:,1], label='$x_2$')\n",
    "plt.plot(t, Y[:,2], label='$\\dot{x}_1$')\n",
    "plt.plot(t, Y[:,3], label='$\\dot{x}_2$')\n",
    "plt.legend()"
   ]
  },
  {
   "cell_type": "markdown",
   "metadata": {
    "id": "7qVS7rX95Usm"
   },
   "source": [
    "## Interactive plot"
   ]
  }
 ],
 "metadata": {
  "colab": {
   "collapsed_sections": [],
   "name": "percussion-1d.ipynb",
   "provenance": []
  },
  "kernelspec": {
   "display_name": "Python 3",
   "language": "python",
   "name": "python3"
  },
  "language_info": {
   "codemirror_mode": {
    "name": "ipython",
    "version": 3
   },
   "file_extension": ".py",
   "mimetype": "text/x-python",
   "name": "python",
   "nbconvert_exporter": "python",
   "pygments_lexer": "ipython3",
   "version": "3.8.5"
  }
 },
 "nbformat": 4,
 "nbformat_minor": 1
}
