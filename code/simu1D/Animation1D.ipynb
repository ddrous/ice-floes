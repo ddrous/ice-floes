{
 "cells": [
  {
   "cell_type": "markdown",
   "id": "0fb71c7a",
   "metadata": {},
   "source": [
    "# Animation de Percussion 1D"
   ]
  },
  {
   "cell_type": "code",
   "execution_count": 131,
   "id": "80add18c",
   "metadata": {},
   "outputs": [],
   "source": [
    "import numpy as np\n",
    "from scipy.integrate import odeint\n",
    "from scipy.integrate import quad\n",
    "\n",
    "import matplotlib.pyplot as plt\n",
    "from matplotlib.patches import Circle\n",
    "\n",
    "from IPython.display import Image, Video\n",
    "from ipywidgets import interact\n",
    "\n",
    "import imageio, io\n",
    "from pathlib import Path\n",
    "import glob, os\n",
    "from natsort import natsorted\n",
    "import PIL.Image as PILImage"
   ]
  },
  {
   "cell_type": "markdown",
   "id": "8f1aeaa8",
   "metadata": {},
   "source": [
    "Ce notebook présente une animation de la percussion entre deux floes."
   ]
  },
  {
   "cell_type": "code",
   "execution_count": 107,
   "id": "66a0deae",
   "metadata": {},
   "outputs": [
    {
     "ename": "FileNotFoundError",
     "evalue": "No such file or directory: '../reports/internship/Figures/Percussion1D-Systeme-3.png'",
     "output_type": "error",
     "traceback": [
      "\u001B[0;31m---------------------------------------------------------------------------\u001B[0m",
      "\u001B[0;31mTypeError\u001B[0m                                 Traceback (most recent call last)",
      "\u001B[0;32m~/.local/lib/python3.8/site-packages/IPython/core/display.py\u001B[0m in \u001B[0;36m_data_and_metadata\u001B[0;34m(self, always_both)\u001B[0m\n\u001B[1;32m   1292\u001B[0m         \u001B[0;32mtry\u001B[0m\u001B[0;34m:\u001B[0m\u001B[0;34m\u001B[0m\u001B[0;34m\u001B[0m\u001B[0m\n\u001B[0;32m-> 1293\u001B[0;31m             \u001B[0mb64_data\u001B[0m \u001B[0;34m=\u001B[0m \u001B[0mb2a_base64\u001B[0m\u001B[0;34m(\u001B[0m\u001B[0mself\u001B[0m\u001B[0;34m.\u001B[0m\u001B[0mdata\u001B[0m\u001B[0;34m)\u001B[0m\u001B[0;34m.\u001B[0m\u001B[0mdecode\u001B[0m\u001B[0;34m(\u001B[0m\u001B[0;34m'ascii'\u001B[0m\u001B[0;34m)\u001B[0m\u001B[0;34m\u001B[0m\u001B[0;34m\u001B[0m\u001B[0m\n\u001B[0m\u001B[1;32m   1294\u001B[0m         \u001B[0;32mexcept\u001B[0m \u001B[0mTypeError\u001B[0m\u001B[0;34m:\u001B[0m\u001B[0;34m\u001B[0m\u001B[0;34m\u001B[0m\u001B[0m\n",
      "\u001B[0;31mTypeError\u001B[0m: a bytes-like object is required, not 'str'",
      "\nDuring handling of the above exception, another exception occurred:\n",
      "\u001B[0;31mFileNotFoundError\u001B[0m                         Traceback (most recent call last)",
      "\u001B[0;32m~/.local/lib/python3.8/site-packages/IPython/core/formatters.py\u001B[0m in \u001B[0;36m__call__\u001B[0;34m(self, obj, include, exclude)\u001B[0m\n\u001B[1;32m    968\u001B[0m \u001B[0;34m\u001B[0m\u001B[0m\n\u001B[1;32m    969\u001B[0m             \u001B[0;32mif\u001B[0m \u001B[0mmethod\u001B[0m \u001B[0;32mis\u001B[0m \u001B[0;32mnot\u001B[0m \u001B[0;32mNone\u001B[0m\u001B[0;34m:\u001B[0m\u001B[0;34m\u001B[0m\u001B[0;34m\u001B[0m\u001B[0m\n\u001B[0;32m--> 970\u001B[0;31m                 \u001B[0;32mreturn\u001B[0m \u001B[0mmethod\u001B[0m\u001B[0;34m(\u001B[0m\u001B[0minclude\u001B[0m\u001B[0;34m=\u001B[0m\u001B[0minclude\u001B[0m\u001B[0;34m,\u001B[0m \u001B[0mexclude\u001B[0m\u001B[0;34m=\u001B[0m\u001B[0mexclude\u001B[0m\u001B[0;34m)\u001B[0m\u001B[0;34m\u001B[0m\u001B[0;34m\u001B[0m\u001B[0m\n\u001B[0m\u001B[1;32m    971\u001B[0m             \u001B[0;32mreturn\u001B[0m \u001B[0;32mNone\u001B[0m\u001B[0;34m\u001B[0m\u001B[0;34m\u001B[0m\u001B[0m\n\u001B[1;32m    972\u001B[0m         \u001B[0;32melse\u001B[0m\u001B[0;34m:\u001B[0m\u001B[0;34m\u001B[0m\u001B[0;34m\u001B[0m\u001B[0m\n",
      "\u001B[0;32m~/.local/lib/python3.8/site-packages/IPython/core/display.py\u001B[0m in \u001B[0;36m_repr_mimebundle_\u001B[0;34m(self, include, exclude)\u001B[0m\n\u001B[1;32m   1281\u001B[0m         \u001B[0;32mif\u001B[0m \u001B[0mself\u001B[0m\u001B[0;34m.\u001B[0m\u001B[0membed\u001B[0m\u001B[0;34m:\u001B[0m\u001B[0;34m\u001B[0m\u001B[0;34m\u001B[0m\u001B[0m\n\u001B[1;32m   1282\u001B[0m             \u001B[0mmimetype\u001B[0m \u001B[0;34m=\u001B[0m \u001B[0mself\u001B[0m\u001B[0;34m.\u001B[0m\u001B[0m_mimetype\u001B[0m\u001B[0;34m\u001B[0m\u001B[0;34m\u001B[0m\u001B[0m\n\u001B[0;32m-> 1283\u001B[0;31m             \u001B[0mdata\u001B[0m\u001B[0;34m,\u001B[0m \u001B[0mmetadata\u001B[0m \u001B[0;34m=\u001B[0m \u001B[0mself\u001B[0m\u001B[0;34m.\u001B[0m\u001B[0m_data_and_metadata\u001B[0m\u001B[0;34m(\u001B[0m\u001B[0malways_both\u001B[0m\u001B[0;34m=\u001B[0m\u001B[0;32mTrue\u001B[0m\u001B[0;34m)\u001B[0m\u001B[0;34m\u001B[0m\u001B[0;34m\u001B[0m\u001B[0m\n\u001B[0m\u001B[1;32m   1284\u001B[0m             \u001B[0;32mif\u001B[0m \u001B[0mmetadata\u001B[0m\u001B[0;34m:\u001B[0m\u001B[0;34m\u001B[0m\u001B[0;34m\u001B[0m\u001B[0m\n\u001B[1;32m   1285\u001B[0m                 \u001B[0mmetadata\u001B[0m \u001B[0;34m=\u001B[0m \u001B[0;34m{\u001B[0m\u001B[0mmimetype\u001B[0m\u001B[0;34m:\u001B[0m \u001B[0mmetadata\u001B[0m\u001B[0;34m}\u001B[0m\u001B[0;34m\u001B[0m\u001B[0;34m\u001B[0m\u001B[0m\n",
      "\u001B[0;32m~/.local/lib/python3.8/site-packages/IPython/core/display.py\u001B[0m in \u001B[0;36m_data_and_metadata\u001B[0;34m(self, always_both)\u001B[0m\n\u001B[1;32m   1293\u001B[0m             \u001B[0mb64_data\u001B[0m \u001B[0;34m=\u001B[0m \u001B[0mb2a_base64\u001B[0m\u001B[0;34m(\u001B[0m\u001B[0mself\u001B[0m\u001B[0;34m.\u001B[0m\u001B[0mdata\u001B[0m\u001B[0;34m)\u001B[0m\u001B[0;34m.\u001B[0m\u001B[0mdecode\u001B[0m\u001B[0;34m(\u001B[0m\u001B[0;34m'ascii'\u001B[0m\u001B[0;34m)\u001B[0m\u001B[0;34m\u001B[0m\u001B[0;34m\u001B[0m\u001B[0m\n\u001B[1;32m   1294\u001B[0m         \u001B[0;32mexcept\u001B[0m \u001B[0mTypeError\u001B[0m\u001B[0;34m:\u001B[0m\u001B[0;34m\u001B[0m\u001B[0;34m\u001B[0m\u001B[0m\n\u001B[0;32m-> 1295\u001B[0;31m             raise FileNotFoundError(\n\u001B[0m\u001B[1;32m   1296\u001B[0m                 \"No such file or directory: '%s'\" % (self.data))\n\u001B[1;32m   1297\u001B[0m         \u001B[0mmd\u001B[0m \u001B[0;34m=\u001B[0m \u001B[0;34m{\u001B[0m\u001B[0;34m}\u001B[0m\u001B[0;34m\u001B[0m\u001B[0;34m\u001B[0m\u001B[0m\n",
      "\u001B[0;31mFileNotFoundError\u001B[0m: No such file or directory: '../reports/internship/Figures/Percussion1D-Systeme-3.png'"
     ]
    },
    {
     "ename": "FileNotFoundError",
     "evalue": "No such file or directory: '../reports/internship/Figures/Percussion1D-Systeme-3.png'",
     "output_type": "error",
     "traceback": [
      "\u001B[0;31m---------------------------------------------------------------------------\u001B[0m",
      "\u001B[0;31mTypeError\u001B[0m                                 Traceback (most recent call last)",
      "\u001B[0;32m~/.local/lib/python3.8/site-packages/IPython/core/display.py\u001B[0m in \u001B[0;36m_data_and_metadata\u001B[0;34m(self, always_both)\u001B[0m\n\u001B[1;32m   1292\u001B[0m         \u001B[0;32mtry\u001B[0m\u001B[0;34m:\u001B[0m\u001B[0;34m\u001B[0m\u001B[0;34m\u001B[0m\u001B[0m\n\u001B[0;32m-> 1293\u001B[0;31m             \u001B[0mb64_data\u001B[0m \u001B[0;34m=\u001B[0m \u001B[0mb2a_base64\u001B[0m\u001B[0;34m(\u001B[0m\u001B[0mself\u001B[0m\u001B[0;34m.\u001B[0m\u001B[0mdata\u001B[0m\u001B[0;34m)\u001B[0m\u001B[0;34m.\u001B[0m\u001B[0mdecode\u001B[0m\u001B[0;34m(\u001B[0m\u001B[0;34m'ascii'\u001B[0m\u001B[0;34m)\u001B[0m\u001B[0;34m\u001B[0m\u001B[0;34m\u001B[0m\u001B[0m\n\u001B[0m\u001B[1;32m   1294\u001B[0m         \u001B[0;32mexcept\u001B[0m \u001B[0mTypeError\u001B[0m\u001B[0;34m:\u001B[0m\u001B[0;34m\u001B[0m\u001B[0;34m\u001B[0m\u001B[0m\n",
      "\u001B[0;31mTypeError\u001B[0m: a bytes-like object is required, not 'str'",
      "\nDuring handling of the above exception, another exception occurred:\n",
      "\u001B[0;31mFileNotFoundError\u001B[0m                         Traceback (most recent call last)",
      "\u001B[0;32m~/.local/lib/python3.8/site-packages/IPython/core/formatters.py\u001B[0m in \u001B[0;36m__call__\u001B[0;34m(self, obj)\u001B[0m\n\u001B[1;32m    343\u001B[0m             \u001B[0mmethod\u001B[0m \u001B[0;34m=\u001B[0m \u001B[0mget_real_method\u001B[0m\u001B[0;34m(\u001B[0m\u001B[0mobj\u001B[0m\u001B[0;34m,\u001B[0m \u001B[0mself\u001B[0m\u001B[0;34m.\u001B[0m\u001B[0mprint_method\u001B[0m\u001B[0;34m)\u001B[0m\u001B[0;34m\u001B[0m\u001B[0;34m\u001B[0m\u001B[0m\n\u001B[1;32m    344\u001B[0m             \u001B[0;32mif\u001B[0m \u001B[0mmethod\u001B[0m \u001B[0;32mis\u001B[0m \u001B[0;32mnot\u001B[0m \u001B[0;32mNone\u001B[0m\u001B[0;34m:\u001B[0m\u001B[0;34m\u001B[0m\u001B[0;34m\u001B[0m\u001B[0m\n\u001B[0;32m--> 345\u001B[0;31m                 \u001B[0;32mreturn\u001B[0m \u001B[0mmethod\u001B[0m\u001B[0;34m(\u001B[0m\u001B[0;34m)\u001B[0m\u001B[0;34m\u001B[0m\u001B[0;34m\u001B[0m\u001B[0m\n\u001B[0m\u001B[1;32m    346\u001B[0m             \u001B[0;32mreturn\u001B[0m \u001B[0;32mNone\u001B[0m\u001B[0;34m\u001B[0m\u001B[0;34m\u001B[0m\u001B[0m\n\u001B[1;32m    347\u001B[0m         \u001B[0;32melse\u001B[0m\u001B[0;34m:\u001B[0m\u001B[0;34m\u001B[0m\u001B[0;34m\u001B[0m\u001B[0m\n",
      "\u001B[0;32m~/.local/lib/python3.8/site-packages/IPython/core/display.py\u001B[0m in \u001B[0;36m_repr_png_\u001B[0;34m(self)\u001B[0m\n\u001B[1;32m   1311\u001B[0m     \u001B[0;32mdef\u001B[0m \u001B[0m_repr_png_\u001B[0m\u001B[0;34m(\u001B[0m\u001B[0mself\u001B[0m\u001B[0;34m)\u001B[0m\u001B[0;34m:\u001B[0m\u001B[0;34m\u001B[0m\u001B[0;34m\u001B[0m\u001B[0m\n\u001B[1;32m   1312\u001B[0m         \u001B[0;32mif\u001B[0m \u001B[0mself\u001B[0m\u001B[0;34m.\u001B[0m\u001B[0membed\u001B[0m \u001B[0;32mand\u001B[0m \u001B[0mself\u001B[0m\u001B[0;34m.\u001B[0m\u001B[0mformat\u001B[0m \u001B[0;34m==\u001B[0m \u001B[0mself\u001B[0m\u001B[0;34m.\u001B[0m\u001B[0m_FMT_PNG\u001B[0m\u001B[0;34m:\u001B[0m\u001B[0;34m\u001B[0m\u001B[0;34m\u001B[0m\u001B[0m\n\u001B[0;32m-> 1313\u001B[0;31m             \u001B[0;32mreturn\u001B[0m \u001B[0mself\u001B[0m\u001B[0;34m.\u001B[0m\u001B[0m_data_and_metadata\u001B[0m\u001B[0;34m(\u001B[0m\u001B[0;34m)\u001B[0m\u001B[0;34m\u001B[0m\u001B[0;34m\u001B[0m\u001B[0m\n\u001B[0m\u001B[1;32m   1314\u001B[0m \u001B[0;34m\u001B[0m\u001B[0m\n\u001B[1;32m   1315\u001B[0m     \u001B[0;32mdef\u001B[0m \u001B[0m_repr_jpeg_\u001B[0m\u001B[0;34m(\u001B[0m\u001B[0mself\u001B[0m\u001B[0;34m)\u001B[0m\u001B[0;34m:\u001B[0m\u001B[0;34m\u001B[0m\u001B[0;34m\u001B[0m\u001B[0m\n",
      "\u001B[0;32m~/.local/lib/python3.8/site-packages/IPython/core/display.py\u001B[0m in \u001B[0;36m_data_and_metadata\u001B[0;34m(self, always_both)\u001B[0m\n\u001B[1;32m   1293\u001B[0m             \u001B[0mb64_data\u001B[0m \u001B[0;34m=\u001B[0m \u001B[0mb2a_base64\u001B[0m\u001B[0;34m(\u001B[0m\u001B[0mself\u001B[0m\u001B[0;34m.\u001B[0m\u001B[0mdata\u001B[0m\u001B[0;34m)\u001B[0m\u001B[0;34m.\u001B[0m\u001B[0mdecode\u001B[0m\u001B[0;34m(\u001B[0m\u001B[0;34m'ascii'\u001B[0m\u001B[0;34m)\u001B[0m\u001B[0;34m\u001B[0m\u001B[0;34m\u001B[0m\u001B[0m\n\u001B[1;32m   1294\u001B[0m         \u001B[0;32mexcept\u001B[0m \u001B[0mTypeError\u001B[0m\u001B[0;34m:\u001B[0m\u001B[0;34m\u001B[0m\u001B[0;34m\u001B[0m\u001B[0m\n\u001B[0;32m-> 1295\u001B[0;31m             raise FileNotFoundError(\n\u001B[0m\u001B[1;32m   1296\u001B[0m                 \"No such file or directory: '%s'\" % (self.data))\n\u001B[1;32m   1297\u001B[0m         \u001B[0mmd\u001B[0m \u001B[0;34m=\u001B[0m \u001B[0;34m{\u001B[0m\u001B[0;34m}\u001B[0m\u001B[0;34m\u001B[0m\u001B[0;34m\u001B[0m\u001B[0m\n",
      "\u001B[0;31mFileNotFoundError\u001B[0m: No such file or directory: '../reports/internship/Figures/Percussion1D-Systeme-3.png'"
     ]
    },
    {
     "data": {
      "text/plain": "<IPython.core.display.Image object>"
     },
     "execution_count": 107,
     "metadata": {},
     "output_type": "execute_result"
    }
   ],
   "source": [
    "Image(\"../reports/internship/Figures/Percussion1D-Systeme-3.png\")"
   ]
  },
  {
   "cell_type": "markdown",
   "id": "3da079c7",
   "metadata": {},
   "source": [
    "Les étapes à suivre:\n",
    "1. Definir les constantes. Le temps se divise en deux:\n",
    "    - Le temps avant le choc \n",
    "    - Le temps après le choc\n",
    "2. Calculer les positions (avant et après le choc). On commence simplement avec un mouvement uniforme avant le choc\n",
    "3. Une fonction pour dessiner un ressort\n",
    "4. Une fonction pour dessiner un dispositif visqueux (inutile pour l'instant)\n",
    "5. Une fonction pour dessiner un floe 1D au temps step\n",
    "6. Faire les graphiques et les placer dans la liste au fur et à mesure\n",
    "\n",
    "A corriger aujoudh'ui:\n",
    "1. Corrgier le plots (limites, etc..)\n",
    "2. Mettre tout ca dans une fonction\n",
    "3. Placer les sliders de notebook\n",
    "4. Implementer la deuxième phase"
   ]
  },
  {
   "cell_type": "code",
   "execution_count": 108,
   "id": "6d1bc1b2",
   "metadata": {},
   "outputs": [],
   "source": [
    "## Problem constants\n",
    "m = 1.0\n",
    "m_ = 1.0\n",
    "\n",
    "k = 16.0\n",
    "k_ = 5.0\n",
    "\n",
    "mu = 6.0\n",
    "mu_ = 2.0\n",
    "\n",
    "v0=0.1 \n",
    "v_0=1.8 \n",
    "eps=0.8, \n",
    "\n",
    "N=2000\n",
    "tminus=0.0 \n",
    "tplus=1.0\n",
    "tmax= 5.0\n",
    "t = np.linspace(0, tmax/2.0, N+1)\n",
    "dt = tmax / N"
   ]
  },
  {
   "cell_type": "code",
   "execution_count": 109,
   "id": "e571a87c",
   "metadata": {},
   "outputs": [],
   "source": [
    "## Geometric constants\n",
    "L = 10.0\n",
    "H = 5.0\n",
    "\n",
    "Ls = L/10.0     # Spring 1 length at rest \n",
    "Ls_ = L/10.0    # Spring 2 length at rest\n",
    "\n",
    "R = L/20.0      # Radius for the balls at the end of the springs\n",
    "\n",
    "z0 = 0\n",
    "z_0 = L-Ls_"
   ]
  },
  {
   "cell_type": "code",
   "execution_count": 110,
   "id": "5e3d0650",
   "metadata": {},
   "outputs": [],
   "source": [
    "## Positions of the first ice-floe before collision\n",
    "def uniform_mouvement_1(y,t):\n",
    "    return v0\n",
    "z = odeint(uniform_mouvement_1, z0, t)[:,0]\n",
    "\n",
    "## Positions of the second ice-floe before collision\n",
    "def uniform_mouvement_2(y,t):\n",
    "    return -v_0\n",
    "z_ = odeint(uniform_mouvement_2, z_0, t)[:,0]"
   ]
  },
  {
   "cell_type": "code",
   "execution_count": 111,
   "id": "a61617ff",
   "metadata": {},
   "outputs": [],
   "source": [
    "## Une fonction pour dessiner un ressort\n",
    "def plot_spring(x, y, theta, L, H, ax):\n",
    "    \"\"\" Plot the spring from (x,y) with length L and height H as the projection of a helix.\"\"\"\n",
    "    # Spring turn radius, number of turns\n",
    "    rs, ns = 0.05, 25\n",
    "    # Number of data points for the helix\n",
    "    Ns = 1000\n",
    "    # We don't draw coils all the way to the end of the pendulum:\n",
    "    # pad a bit from the anchor and from the bob by these number of points\n",
    "    ipad1, ipad2 = 100, 150\n",
    "    w = np.linspace(0, L, Ns)\n",
    "    # Set up the helix along the x-axis ...\n",
    "    xp = np.zeros(Ns)\n",
    "    xp[ipad1:-ipad2] = rs * np.sin(2*np.pi * ns * w[ipad1:-ipad2] / L)\n",
    "    # ... then rotate it to align with  the pendulum and plot.\n",
    "    R = np.array([[np.cos(theta), -np.sin(theta)],\n",
    "                  [np.sin(theta), np.cos(theta)]])\n",
    "    xs, ys = - R @ np.vstack((xp, w))\n",
    "    ax.plot(x+xs, y+(H*ys)/np.max(ys), c='k', lw=2)\n",
    "\n",
    "# fig = plt.figure(figsize=(10, 10), dpi=72)\n",
    "# ax = fig.add_subplot(111)\n",
    "# plot_spring(5,0,np.pi/2,4, 2,ax)"
   ]
  },
  {
   "cell_type": "code",
   "execution_count": 112,
   "id": "0773df59",
   "metadata": {},
   "outputs": [],
   "source": [
    "def plot_circle(x, y, R, ax):\n",
    "    # Circle at position (x,y) with radius R\n",
    "    c = Circle((x, y), R, fc='k', zorder=10)\n",
    "    ax.add_patch(c)\n",
    "\n",
    "def plot_ice_floe(x1,y1, x2,y2, R, ax):\n",
    "    \"\"\" Plot an ice floe whose nodes are at (x1,y1) and (x2,y2) with same radius R \"\"\"\n",
    "    plot_circle(x1,y1,R,ax)\n",
    "    plot_circle(x2,y2,R,ax)\n",
    "    if x1 > x2:\n",
    "        tmp = x2\n",
    "        x2 = x1\n",
    "        x1 = tmp\n",
    "    elif x1 == x2:\n",
    "        print(\"Zero sized spring!\")\n",
    "\n",
    "    plot_spring(x1+R/2, 0, np.pi/2, x2-x1-R, R/1.2, ax)\n",
    "\n",
    "\n",
    "\n",
    "# fig = plt.figure(figsize=(10, 5), dpi=72)\n",
    "# ax = fig.add_subplot(111)\n",
    "# ax.axis(\"equal\")\n",
    "#\n",
    "# # plot_circle(5,0,1,ax)\n",
    "# # plot_spring(5,0,np.pi/2,4, 0.5,ax)\n",
    "# # plot_ice_floe(1,0, 8,0, 1, ax)\n",
    "# plot_ice_floe(1,0, 1,0, 0.25, ax)\n",
    "# plt.show()"
   ]
  },
  {
   "cell_type": "code",
   "execution_count": 113,
   "outputs": [],
   "source": [
    "\"\"\" Clear the given directory of all PNG files \"\"\"\n",
    "def clear_dir(path):\n",
    "    files = glob.glob(path+'/*.png', recursive=True)\n",
    "    for f in files:\n",
    "        try:\n",
    "            os.remove(f)\n",
    "        except OSError as e:\n",
    "            print(\"Error: %s : %s\" % (f, e.strerror))"
   ],
   "metadata": {
    "collapsed": false,
    "pycharm": {
     "name": "#%%\n"
    }
   }
  },
  {
   "cell_type": "code",
   "execution_count": 133,
   "id": "8f51d75a",
   "metadata": {},
   "outputs": [],
   "source": [
    "def fig2img(fig):\n",
    "    \"\"\" Convert a Matplotlib figure to a PIL Image and return it \"\"\"\n",
    "    buf = io.BytesIO()\n",
    "    fig.savefig(buf)\n",
    "    buf.seek(0)\n",
    "    img = PILImage.open(buf)\n",
    "    # img = plt.imread(buf)\n",
    "    return img\n"
   ]
  },
  {
   "cell_type": "code",
   "execution_count": 138,
   "outputs": [],
   "source": [
    "def make_plot(i, path, ax):\n",
    "    \"\"\"\n",
    "    Plot and save an image of the system configuration for time point i.\n",
    "    \"\"\"\n",
    "    plot_ice_floe(z[i],0, z[i]+Ls,0, R, ax)\n",
    "    plot_ice_floe(z_[i],0, z_[i]+Ls_,0, R, ax)\n",
    "\n",
    "    # Centre the image on the fixed anchor point, and ensure the axes are equal\n",
    "    # ax.set_xlim(-np.max(L)-r, np.max(L)+r)\n",
    "    # ax.set_ylim(-np.max(L)-r, np.max(L)+r)\n",
    "    ax.set_aspect('equal', adjustable='box')\n",
    "    # plt.axis('off')\n",
    "    # plt.savefig(path+'/_img{:04d}.png'.format(i//di), dpi=72)\n",
    "    img_list.append(fig2img(fig))\n",
    "    # Clear the Axes ready for the next image.\n",
    "    plt.cla()"
   ],
   "metadata": {
    "collapsed": false,
    "pycharm": {
     "name": "#%%\n"
    }
   }
  },
  {
   "cell_type": "code",
   "execution_count": 139,
   "outputs": [
    {
     "name": "stdout",
     "output_type": "stream",
     "text": [
      "0 / 50\n",
      "1 / 50\n",
      "2 / 50\n",
      "3 / 50\n",
      "4 / 50\n",
      "5 / 50\n",
      "6 / 50\n",
      "7 / 50\n",
      "8 / 50\n",
      "9 / 50\n",
      "10 / 50\n",
      "11 / 50\n",
      "12 / 50\n",
      "13 / 50\n",
      "14 / 50\n",
      "15 / 50\n",
      "16 / 50\n",
      "17 / 50\n",
      "18 / 50\n",
      "19 / 50\n",
      "20 / 50\n",
      "21 / 50\n",
      "22 / 50\n",
      "23 / 50\n",
      "24 / 50\n",
      "25 / 50\n",
      "26 / 50\n",
      "27 / 50\n",
      "28 / 50\n",
      "29 / 50\n",
      "30 / 50\n",
      "31 / 50\n",
      "32 / 50\n",
      "33 / 50\n",
      "34 / 50\n",
      "35 / 50\n",
      "36 / 50\n",
      "37 / 50\n",
      "38 / 50\n",
      "39 / 50\n",
      "40 / 50\n",
      "41 / 50\n",
      "42 / 50\n",
      "43 / 50\n",
      "44 / 50\n",
      "45 / 50\n",
      "46 / 50\n",
      "47 / 50\n",
      "48 / 50\n",
      "49 / 50\n",
      "50 / 50\n"
     ]
    },
    {
     "data": {
      "text/plain": "<Figure size 720x360 with 1 Axes>",
      "image/png": "[encoded data removed]"
     },
     "metadata": {
      "needs_background": "light"
     },
     "output_type": "display_data"
    }
   ],
   "source": [
    "\"\"\"\n",
    "# Make an image every di time points, corresponding to a frame rate of fps\n",
    "\"\"\"\n",
    "path = \"frames\"\n",
    "fps = 10\n",
    "di = int(1/fps/dt)\n",
    "# This figure size (inches) and dpi give an image of .\n",
    "fig = plt.figure(figsize=(L, H), dpi=72)\n",
    "ax = fig.add_subplot(111)\n",
    "\n",
    "clear_dir(path)\n",
    "img_list = []\n",
    "\n",
    "for i in range(0, t.size, di):\n",
    "    print(i // di, '/', t.size // di)\n",
    "    make_plot(i, path, ax)\n"
   ],
   "metadata": {
    "collapsed": false,
    "pycharm": {
     "name": "#%%\n"
    }
   }
  },
  {
   "cell_type": "code",
   "execution_count": 140,
   "outputs": [],
   "source": [
    "# imageio.mimwrite('Animation1D.gif', image_list, loop=3, duration=total_duration/nb_frames)\n",
    "imageio.mimwrite('Animation1D.gif', img_list)"
   ],
   "metadata": {
    "collapsed": false,
    "pycharm": {
     "name": "#%%\n"
    }
   }
  },
  {
   "cell_type": "code",
   "execution_count": 141,
   "outputs": [
    {
     "data": {
      "text/plain": "0"
     },
     "execution_count": 141,
     "metadata": {},
     "output_type": "execute_result"
    }
   ],
   "source": [
    "# Image(\"Animation1D.gif\")\n",
    "os.system('eog Animation1D.gif')     ## Only on Linux GNOME\n"
   ],
   "metadata": {
    "collapsed": false,
    "pycharm": {
     "name": "#%%\n"
    }
   }
  },
  {
   "cell_type": "code",
   "execution_count": null,
   "outputs": [],
   "source": [
    "\"\"\" A partir d'ici il faut faire la sauvegarde sur le disque \"\"\"\n",
    "\n",
    "\n",
    "\n",
    "\n",
    "\n",
    "\n"
   ],
   "metadata": {
    "collapsed": false,
    "pycharm": {
     "name": "#%%\n"
    }
   }
  },
  {
   "cell_type": "code",
   "execution_count": 93,
   "id": "20920f2f",
   "metadata": {},
   "outputs": [
    {
     "name": "stdout",
     "output_type": "stream",
     "text": [
      "['frames/_img0000.png', 'frames/_img0001.png', 'frames/_img0002.png', 'frames/_img0003.png', 'frames/_img0004.png']\n"
     ]
    }
   ],
   "source": [
    "\"\"\" Read the image from memory \"\"\"\n",
    "image_path = Path('./frames')\n",
    "images_paths = list(image_path.glob('*.png'))\n",
    "\n",
    "image_names = []\n",
    "for file_name in images_paths:\n",
    "    image_names.append(str(file_name))\n",
    "image_names = natsorted(image_names)\n",
    "\n",
    "image_list = []\n",
    "for file_name in image_names:\n",
    "    image_list.append(imageio.imread(file_name))\n",
    "\n",
    "print(image_names[:5])"
   ]
  },
  {
   "cell_type": "code",
   "execution_count": 94,
   "id": "1f2ee0f5",
   "metadata": {},
   "outputs": [],
   "source": [
    "# nb_frames = len(image_list)\n",
    "# total_duration = 10.0\n",
    "# fps = nb_frames * 100 / total_duration\n",
    "#\n",
    "# imageio.mimwrite('Animation1D.gif', image_list, loop=3, duration=total_duration/nb_frames)\n",
    "imageio.mimwrite('Animation1D.gif', image_list)"
   ]
  },
  {
   "cell_type": "code",
   "execution_count": 104,
   "id": "120e640b",
   "metadata": {},
   "outputs": [
    {
     "data": {
      "text/plain": "0"
     },
     "execution_count": 104,
     "metadata": {},
     "output_type": "execute_result"
    }
   ],
   "source": [
    "# Image(\"Animation1D.gif\")\n",
    "os.system('eog Animation1D.gif')     ## Only on Linux GNOME"
   ]
  },
  {
   "cell_type": "code",
   "execution_count": 95,
   "id": "aa7fe7da",
   "metadata": {},
   "outputs": [],
   "source": []
  }
 ],
 "metadata": {
  "kernelspec": {
   "display_name": "Python 3",
   "language": "python",
   "name": "python3"
  },
  "language_info": {
   "codemirror_mode": {
    "name": "ipython",
    "version": 3
   },
   "file_extension": ".py",
   "mimetype": "text/x-python",
   "name": "python",
   "nbconvert_exporter": "python",
   "pygments_lexer": "ipython3",
   "version": "3.8.5"
  }
 },
 "nbformat": 4,
 "nbformat_minor": 5
}